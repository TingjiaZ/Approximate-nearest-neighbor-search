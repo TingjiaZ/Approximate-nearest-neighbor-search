{
  "nbformat": 4,
  "nbformat_minor": 0,
  "metadata": {
    "colab": {
      "name": "Approximate-nearest-neighbor-search.ipynb",
      "provenance": [],
      "toc_visible": true
    },
    "kernelspec": {
      "name": "python3",
      "display_name": "Python 3"
    },
    "language_info": {
      "name": "python"
    }
  },
  "cells": [
    {
      "cell_type": "code",
      "metadata": {
        "id": "oAQ3_mxmUjS1",
        "colab": {
          "base_uri": "https://localhost:8080/"
        },
        "outputId": "a4a34c7e-a514-48c7-e0ff-8f13bb3e3aaa"
      },
      "source": [
        "import pandas as pd\n",
        "import numpy as np\n",
        "import re\n",
        "!pip install texthero\n",
        "import texthero as hero\n",
        "from texthero import preprocessing"
      ],
      "execution_count": 2,
      "outputs": [
        {
          "output_type": "stream",
          "name": "stdout",
          "text": [
            "Collecting texthero\n",
            "  Downloading texthero-1.1.0-py3-none-any.whl (24 kB)\n",
            "Collecting unidecode>=1.1.1\n",
            "  Downloading Unidecode-1.3.2-py3-none-any.whl (235 kB)\n",
            "\u001b[?25l\r\u001b[K     |█▍                              | 10 kB 22.7 MB/s eta 0:00:01\r\u001b[K     |██▉                             | 20 kB 29.5 MB/s eta 0:00:01\r\u001b[K     |████▏                           | 30 kB 34.8 MB/s eta 0:00:01\r\u001b[K     |█████▋                          | 40 kB 34.7 MB/s eta 0:00:01\r\u001b[K     |███████                         | 51 kB 38.5 MB/s eta 0:00:01\r\u001b[K     |████████▍                       | 61 kB 38.5 MB/s eta 0:00:01\r\u001b[K     |█████████▊                      | 71 kB 40.8 MB/s eta 0:00:01\r\u001b[K     |███████████▏                    | 81 kB 34.3 MB/s eta 0:00:01\r\u001b[K     |████████████▌                   | 92 kB 30.0 MB/s eta 0:00:01\r\u001b[K     |██████████████                  | 102 kB 31.6 MB/s eta 0:00:01\r\u001b[K     |███████████████▎                | 112 kB 31.6 MB/s eta 0:00:01\r\u001b[K     |████████████████▊               | 122 kB 31.6 MB/s eta 0:00:01\r\u001b[K     |██████████████████              | 133 kB 31.6 MB/s eta 0:00:01\r\u001b[K     |███████████████████▌            | 143 kB 31.6 MB/s eta 0:00:01\r\u001b[K     |████████████████████▉           | 153 kB 31.6 MB/s eta 0:00:01\r\u001b[K     |██████████████████████▎         | 163 kB 31.6 MB/s eta 0:00:01\r\u001b[K     |███████████████████████▋        | 174 kB 31.6 MB/s eta 0:00:01\r\u001b[K     |█████████████████████████       | 184 kB 31.6 MB/s eta 0:00:01\r\u001b[K     |██████████████████████████▍     | 194 kB 31.6 MB/s eta 0:00:01\r\u001b[K     |███████████████████████████▉    | 204 kB 31.6 MB/s eta 0:00:01\r\u001b[K     |█████████████████████████████▏  | 215 kB 31.6 MB/s eta 0:00:01\r\u001b[K     |██████████████████████████████▋ | 225 kB 31.6 MB/s eta 0:00:01\r\u001b[K     |████████████████████████████████| 235 kB 31.6 MB/s eta 0:00:01\r\u001b[K     |████████████████████████████████| 235 kB 31.6 MB/s \n",
            "\u001b[?25hRequirement already satisfied: tqdm>=4.3 in /usr/local/lib/python3.7/dist-packages (from texthero) (4.62.3)\n",
            "Requirement already satisfied: matplotlib>=3.1.0 in /usr/local/lib/python3.7/dist-packages (from texthero) (3.2.2)\n",
            "Requirement already satisfied: pandas>=1.0.2 in /usr/local/lib/python3.7/dist-packages (from texthero) (1.1.5)\n",
            "Requirement already satisfied: numpy>=1.17 in /usr/local/lib/python3.7/dist-packages (from texthero) (1.19.5)\n",
            "Collecting nltk>=3.3\n",
            "  Downloading nltk-3.6.5-py3-none-any.whl (1.5 MB)\n",
            "\u001b[K     |████████████████████████████████| 1.5 MB 41.0 MB/s \n",
            "\u001b[?25hRequirement already satisfied: spacy<3.0.0 in /usr/local/lib/python3.7/dist-packages (from texthero) (2.2.4)\n",
            "Requirement already satisfied: scikit-learn>=0.22 in /usr/local/lib/python3.7/dist-packages (from texthero) (1.0.1)\n",
            "Requirement already satisfied: gensim<4.0,>=3.6.0 in /usr/local/lib/python3.7/dist-packages (from texthero) (3.6.0)\n",
            "Requirement already satisfied: wordcloud>=1.5.0 in /usr/local/lib/python3.7/dist-packages (from texthero) (1.5.0)\n",
            "Requirement already satisfied: plotly>=4.2.0 in /usr/local/lib/python3.7/dist-packages (from texthero) (4.4.1)\n",
            "Requirement already satisfied: smart-open>=1.2.1 in /usr/local/lib/python3.7/dist-packages (from gensim<4.0,>=3.6.0->texthero) (5.2.1)\n",
            "Requirement already satisfied: scipy>=0.18.1 in /usr/local/lib/python3.7/dist-packages (from gensim<4.0,>=3.6.0->texthero) (1.4.1)\n",
            "Requirement already satisfied: six>=1.5.0 in /usr/local/lib/python3.7/dist-packages (from gensim<4.0,>=3.6.0->texthero) (1.15.0)\n",
            "Requirement already satisfied: pyparsing!=2.0.4,!=2.1.2,!=2.1.6,>=2.0.1 in /usr/local/lib/python3.7/dist-packages (from matplotlib>=3.1.0->texthero) (3.0.6)\n",
            "Requirement already satisfied: kiwisolver>=1.0.1 in /usr/local/lib/python3.7/dist-packages (from matplotlib>=3.1.0->texthero) (1.3.2)\n",
            "Requirement already satisfied: python-dateutil>=2.1 in /usr/local/lib/python3.7/dist-packages (from matplotlib>=3.1.0->texthero) (2.8.2)\n",
            "Requirement already satisfied: cycler>=0.10 in /usr/local/lib/python3.7/dist-packages (from matplotlib>=3.1.0->texthero) (0.11.0)\n",
            "Collecting regex>=2021.8.3\n",
            "  Downloading regex-2021.11.10-cp37-cp37m-manylinux_2_17_x86_64.manylinux2014_x86_64.whl (749 kB)\n",
            "\u001b[K     |████████████████████████████████| 749 kB 45.2 MB/s \n",
            "\u001b[?25hRequirement already satisfied: joblib in /usr/local/lib/python3.7/dist-packages (from nltk>=3.3->texthero) (1.1.0)\n",
            "Requirement already satisfied: click in /usr/local/lib/python3.7/dist-packages (from nltk>=3.3->texthero) (7.1.2)\n",
            "Requirement already satisfied: pytz>=2017.2 in /usr/local/lib/python3.7/dist-packages (from pandas>=1.0.2->texthero) (2018.9)\n",
            "Requirement already satisfied: retrying>=1.3.3 in /usr/local/lib/python3.7/dist-packages (from plotly>=4.2.0->texthero) (1.3.3)\n",
            "Requirement already satisfied: threadpoolctl>=2.0.0 in /usr/local/lib/python3.7/dist-packages (from scikit-learn>=0.22->texthero) (3.0.0)\n",
            "Requirement already satisfied: wasabi<1.1.0,>=0.4.0 in /usr/local/lib/python3.7/dist-packages (from spacy<3.0.0->texthero) (0.8.2)\n",
            "Requirement already satisfied: setuptools in /usr/local/lib/python3.7/dist-packages (from spacy<3.0.0->texthero) (57.4.0)\n",
            "Requirement already satisfied: plac<1.2.0,>=0.9.6 in /usr/local/lib/python3.7/dist-packages (from spacy<3.0.0->texthero) (1.1.3)\n",
            "Requirement already satisfied: cymem<2.1.0,>=2.0.2 in /usr/local/lib/python3.7/dist-packages (from spacy<3.0.0->texthero) (2.0.6)\n",
            "Requirement already satisfied: blis<0.5.0,>=0.4.0 in /usr/local/lib/python3.7/dist-packages (from spacy<3.0.0->texthero) (0.4.1)\n",
            "Requirement already satisfied: thinc==7.4.0 in /usr/local/lib/python3.7/dist-packages (from spacy<3.0.0->texthero) (7.4.0)\n",
            "Requirement already satisfied: murmurhash<1.1.0,>=0.28.0 in /usr/local/lib/python3.7/dist-packages (from spacy<3.0.0->texthero) (1.0.6)\n",
            "Requirement already satisfied: srsly<1.1.0,>=1.0.2 in /usr/local/lib/python3.7/dist-packages (from spacy<3.0.0->texthero) (1.0.5)\n",
            "Requirement already satisfied: preshed<3.1.0,>=3.0.2 in /usr/local/lib/python3.7/dist-packages (from spacy<3.0.0->texthero) (3.0.6)\n",
            "Requirement already satisfied: requests<3.0.0,>=2.13.0 in /usr/local/lib/python3.7/dist-packages (from spacy<3.0.0->texthero) (2.23.0)\n",
            "Requirement already satisfied: catalogue<1.1.0,>=0.0.7 in /usr/local/lib/python3.7/dist-packages (from spacy<3.0.0->texthero) (1.0.0)\n",
            "Requirement already satisfied: importlib-metadata>=0.20 in /usr/local/lib/python3.7/dist-packages (from catalogue<1.1.0,>=0.0.7->spacy<3.0.0->texthero) (4.8.2)\n",
            "Requirement already satisfied: typing-extensions>=3.6.4 in /usr/local/lib/python3.7/dist-packages (from importlib-metadata>=0.20->catalogue<1.1.0,>=0.0.7->spacy<3.0.0->texthero) (3.10.0.2)\n",
            "Requirement already satisfied: zipp>=0.5 in /usr/local/lib/python3.7/dist-packages (from importlib-metadata>=0.20->catalogue<1.1.0,>=0.0.7->spacy<3.0.0->texthero) (3.6.0)\n",
            "Requirement already satisfied: certifi>=2017.4.17 in /usr/local/lib/python3.7/dist-packages (from requests<3.0.0,>=2.13.0->spacy<3.0.0->texthero) (2021.10.8)\n",
            "Requirement already satisfied: chardet<4,>=3.0.2 in /usr/local/lib/python3.7/dist-packages (from requests<3.0.0,>=2.13.0->spacy<3.0.0->texthero) (3.0.4)\n",
            "Requirement already satisfied: idna<3,>=2.5 in /usr/local/lib/python3.7/dist-packages (from requests<3.0.0,>=2.13.0->spacy<3.0.0->texthero) (2.10)\n",
            "Requirement already satisfied: urllib3!=1.25.0,!=1.25.1,<1.26,>=1.21.1 in /usr/local/lib/python3.7/dist-packages (from requests<3.0.0,>=2.13.0->spacy<3.0.0->texthero) (1.24.3)\n",
            "Requirement already satisfied: pillow in /usr/local/lib/python3.7/dist-packages (from wordcloud>=1.5.0->texthero) (7.1.2)\n",
            "Installing collected packages: regex, unidecode, nltk, texthero\n",
            "  Attempting uninstall: regex\n",
            "    Found existing installation: regex 2019.12.20\n",
            "    Uninstalling regex-2019.12.20:\n",
            "      Successfully uninstalled regex-2019.12.20\n",
            "  Attempting uninstall: nltk\n",
            "    Found existing installation: nltk 3.2.5\n",
            "    Uninstalling nltk-3.2.5:\n",
            "      Successfully uninstalled nltk-3.2.5\n",
            "Successfully installed nltk-3.6.5 regex-2021.11.10 texthero-1.1.0 unidecode-1.3.2\n"
          ]
        },
        {
          "output_type": "stream",
          "name": "stderr",
          "text": [
            "[nltk_data] Downloading package stopwords to /root/nltk_data...\n",
            "[nltk_data]   Unzipping corpora/stopwords.zip.\n"
          ]
        }
      ]
    },
    {
      "cell_type": "code",
      "metadata": {
        "colab": {
          "resources": {
            "http://localhost:8080/nbextensions/google.colab/files.js": {
              "data": "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",
              "ok": true,
              "headers": [
                [
                  "content-type",
                  "application/javascript"
                ]
              ],
              "status": 200,
              "status_text": ""
            }
          },
          "base_uri": "https://localhost:8080/",
          "height": 72
        },
        "id": "3B-Nc3VnrZgC",
        "outputId": "78a7113b-9a38-438e-ced7-93007171c457"
      },
      "source": [
        "from google.colab import files\n",
        "uploaded = files.upload()"
      ],
      "execution_count": 6,
      "outputs": [
        {
          "output_type": "display_data",
          "data": {
            "text/html": [
              "\n",
              "     <input type=\"file\" id=\"files-4a98e09a-c2f5-4d18-b136-43fc746fd7b2\" name=\"files[]\" multiple disabled\n",
              "        style=\"border:none\" />\n",
              "     <output id=\"result-4a98e09a-c2f5-4d18-b136-43fc746fd7b2\">\n",
              "      Upload widget is only available when the cell has been executed in the\n",
              "      current browser session. Please rerun this cell to enable.\n",
              "      </output>\n",
              "      <script src=\"/nbextensions/google.colab/files.js\"></script> "
            ],
            "text/plain": [
              "<IPython.core.display.HTML object>"
            ]
          },
          "metadata": {}
        },
        {
          "output_type": "stream",
          "name": "stdout",
          "text": [
            "Saving politifact_scraped_data.csv to politifact_scraped_data.csv\n"
          ]
        }
      ]
    },
    {
      "cell_type": "code",
      "metadata": {
        "colab": {
          "base_uri": "https://localhost:8080/",
          "height": 206
        },
        "id": "Xu3Xi4zKr743",
        "outputId": "b0603ad0-bfbe-4db7-8c55-e2c9f5cf5e45"
      },
      "source": [
        "df=pd.read_csv('politifact_scraped_data.csv')\n",
        "df.head()"
      ],
      "execution_count": 8,
      "outputs": [
        {
          "output_type": "execute_result",
          "data": {
            "text/html": [
              "<div>\n",
              "<style scoped>\n",
              "    .dataframe tbody tr th:only-of-type {\n",
              "        vertical-align: middle;\n",
              "    }\n",
              "\n",
              "    .dataframe tbody tr th {\n",
              "        vertical-align: top;\n",
              "    }\n",
              "\n",
              "    .dataframe thead th {\n",
              "        text-align: right;\n",
              "    }\n",
              "</style>\n",
              "<table border=\"1\" class=\"dataframe\">\n",
              "  <thead>\n",
              "    <tr style=\"text-align: right;\">\n",
              "      <th></th>\n",
              "      <th>Unnamed: 0</th>\n",
              "      <th>author</th>\n",
              "      <th>statement</th>\n",
              "      <th>source</th>\n",
              "      <th>date</th>\n",
              "      <th>target</th>\n",
              "      <th>BinaryTarget</th>\n",
              "      <th>BinaryNumTarget</th>\n",
              "    </tr>\n",
              "  </thead>\n",
              "  <tbody>\n",
              "    <tr>\n",
              "      <th>0</th>\n",
              "      <td>0</td>\n",
              "      <td>Kiannah Sepeda-Miller</td>\n",
              "      <td>The migrant caravan from Tapachula, Mexico “is...</td>\n",
              "      <td>Mary Miller</td>\n",
              "      <td>October 31, 2021</td>\n",
              "      <td>pants-fire</td>\n",
              "      <td>0</td>\n",
              "      <td>FAKE</td>\n",
              "    </tr>\n",
              "    <tr>\n",
              "      <th>1</th>\n",
              "      <td>1</td>\n",
              "      <td>Tom Kertscher</td>\n",
              "      <td>Blood “starts to clot in a minute or two” afte...</td>\n",
              "      <td>Instagram posts</td>\n",
              "      <td>October 29, 2021</td>\n",
              "      <td>false</td>\n",
              "      <td>0</td>\n",
              "      <td>FAKE</td>\n",
              "    </tr>\n",
              "    <tr>\n",
              "      <th>2</th>\n",
              "      <td>2</td>\n",
              "      <td>Monique Curet</td>\n",
              "      <td>“Japan drops vax rollout”</td>\n",
              "      <td>Hal Turner Radio Show</td>\n",
              "      <td>October 29, 2021</td>\n",
              "      <td>pants-fire</td>\n",
              "      <td>0</td>\n",
              "      <td>FAKE</td>\n",
              "    </tr>\n",
              "    <tr>\n",
              "      <th>3</th>\n",
              "      <td>3</td>\n",
              "      <td>Samantha Putterman</td>\n",
              "      <td>Virginia voters are being turned away from pol...</td>\n",
              "      <td>Facebook posts</td>\n",
              "      <td>October 29, 2021</td>\n",
              "      <td>barely-true</td>\n",
              "      <td>0</td>\n",
              "      <td>FAKE</td>\n",
              "    </tr>\n",
              "    <tr>\n",
              "      <th>4</th>\n",
              "      <td>4</td>\n",
              "      <td>Ciara O'Rourke</td>\n",
              "      <td>In-N-Out cups say “F--- Joe Biden.”</td>\n",
              "      <td>Viral image</td>\n",
              "      <td>October 29, 2021</td>\n",
              "      <td>false</td>\n",
              "      <td>0</td>\n",
              "      <td>FAKE</td>\n",
              "    </tr>\n",
              "  </tbody>\n",
              "</table>\n",
              "</div>"
            ],
            "text/plain": [
              "   Unnamed: 0                 author  ... BinaryTarget BinaryNumTarget\n",
              "0           0  Kiannah Sepeda-Miller  ...            0            FAKE\n",
              "1           1          Tom Kertscher  ...            0            FAKE\n",
              "2           2          Monique Curet  ...            0            FAKE\n",
              "3           3     Samantha Putterman  ...            0            FAKE\n",
              "4           4         Ciara O'Rourke  ...            0            FAKE\n",
              "\n",
              "[5 rows x 8 columns]"
            ]
          },
          "metadata": {},
          "execution_count": 8
        }
      ]
    },
    {
      "cell_type": "code",
      "metadata": {
        "colab": {
          "base_uri": "https://localhost:8080/",
          "height": 34
        },
        "id": "Y2n0t0DesV5l",
        "outputId": "46e1a306-757f-48a8-ec7f-f32dcf6a8fea"
      },
      "source": [
        "df['statement']=df['statement'].apply(lambda x: clean_html_tags(x))\n",
        "df['statement'] = hero.clean(df['statement'], custom_pipeline)\n",
        "df['statement'][0]"
      ],
      "execution_count": 9,
      "outputs": [
        {
          "output_type": "execute_result",
          "data": {
            "application/vnd.google.colaboratory.intrinsic+json": {
              "type": "string"
            },
            "text/plain": [
              "'the migrant caravan  tapachula  mexico    population  minneapolis '"
            ]
          },
          "metadata": {},
          "execution_count": 9
        }
      ]
    },
    {
      "cell_type": "code",
      "metadata": {
        "colab": {
          "base_uri": "https://localhost:8080/"
        },
        "id": "lXBRzLWusfo5",
        "outputId": "fee6387e-3988-437f-db10-bf9d9b20f66b"
      },
      "source": [
        "from sklearn.feature_extraction.text import TfidfVectorizer\n",
        "\n",
        "tfidf = TfidfVectorizer(analyzer='word',ngram_range=(1, 3),min_df=0,stop_words='english')\n",
        "X_tfidf = tfidf.fit_transform(df['statement'])\n",
        "X_tfidf"
      ],
      "execution_count": 11,
      "outputs": [
        {
          "output_type": "execute_result",
          "data": {
            "text/plain": [
              "<2400x38942 sparse matrix of type '<class 'numpy.float64'>'\n",
              "\twith 58716 stored elements in Compressed Sparse Row format>"
            ]
          },
          "metadata": {},
          "execution_count": 11
        }
      ]
    },
    {
      "cell_type": "code",
      "metadata": {
        "colab": {
          "base_uri": "https://localhost:8080/"
        },
        "id": "oo9_CmFMsntN",
        "outputId": "e113644c-679b-45d6-e288-e3e930999851"
      },
      "source": [
        "vector = X_tfidf.toarray()\n",
        "vector[0].shape[0]"
      ],
      "execution_count": 12,
      "outputs": [
        {
          "output_type": "execute_result",
          "data": {
            "text/plain": [
              "38942"
            ]
          },
          "metadata": {},
          "execution_count": 12
        }
      ]
    },
    {
      "cell_type": "code",
      "metadata": {
        "colab": {
          "base_uri": "https://localhost:8080/"
        },
        "id": "BH2vXO5VspDF",
        "outputId": "e97f08ca-f5b3-492a-b6aa-0467ebc30dc7"
      },
      "source": [
        "!pip install faiss\n"
      ],
      "execution_count": 15,
      "outputs": [
        {
          "output_type": "stream",
          "name": "stdout",
          "text": [
            "Requirement already satisfied: faiss in /usr/local/lib/python3.7/dist-packages (1.5.3)\n",
            "Requirement already satisfied: numpy in /usr/local/lib/python3.7/dist-packages (from faiss) (1.19.5)\n"
          ]
        }
      ]
    },
    {
      "cell_type": "code",
      "metadata": {
        "colab": {
          "base_uri": "https://localhost:8080/"
        },
        "id": "Mo2BsyMWtINz",
        "outputId": "5894cec6-6a2d-4b64-9dca-4caec7279db7"
      },
      "source": [
        "!apt install libomp-dev\n",
        "!python -m pip install --upgrade faiss faiss-gpu\n",
        "import faiss"
      ],
      "execution_count": 21,
      "outputs": [
        {
          "output_type": "stream",
          "name": "stdout",
          "text": [
            "Reading package lists... Done\n",
            "Building dependency tree       \n",
            "Reading state information... Done\n",
            "The following additional packages will be installed:\n",
            "  libomp5\n",
            "Suggested packages:\n",
            "  libomp-doc\n",
            "The following NEW packages will be installed:\n",
            "  libomp-dev libomp5\n",
            "0 upgraded, 2 newly installed, 0 to remove and 37 not upgraded.\n",
            "Need to get 239 kB of archives.\n",
            "After this operation, 804 kB of additional disk space will be used.\n",
            "Get:1 http://archive.ubuntu.com/ubuntu bionic/universe amd64 libomp5 amd64 5.0.1-1 [234 kB]\n",
            "Get:2 http://archive.ubuntu.com/ubuntu bionic/universe amd64 libomp-dev amd64 5.0.1-1 [5,088 B]\n",
            "Fetched 239 kB in 1s (434 kB/s)\n",
            "Selecting previously unselected package libomp5:amd64.\n",
            "(Reading database ... 155222 files and directories currently installed.)\n",
            "Preparing to unpack .../libomp5_5.0.1-1_amd64.deb ...\n",
            "Unpacking libomp5:amd64 (5.0.1-1) ...\n",
            "Selecting previously unselected package libomp-dev.\n",
            "Preparing to unpack .../libomp-dev_5.0.1-1_amd64.deb ...\n",
            "Unpacking libomp-dev (5.0.1-1) ...\n",
            "Setting up libomp5:amd64 (5.0.1-1) ...\n",
            "Setting up libomp-dev (5.0.1-1) ...\n",
            "Processing triggers for libc-bin (2.27-3ubuntu1.3) ...\n",
            "/sbin/ldconfig.real: /usr/local/lib/python3.7/dist-packages/ideep4py/lib/libmkldnn.so.0 is not a symbolic link\n",
            "\n",
            "Requirement already satisfied: faiss in /usr/local/lib/python3.7/dist-packages (1.5.3)\n",
            "Collecting faiss-gpu\n",
            "  Downloading faiss_gpu-1.7.1.post2-cp37-cp37m-manylinux_2_17_x86_64.manylinux2014_x86_64.whl (89.7 MB)\n",
            "\u001b[K     |████████████████████████████████| 89.7 MB 17 kB/s \n",
            "\u001b[?25hRequirement already satisfied: numpy in /usr/local/lib/python3.7/dist-packages (from faiss) (1.19.5)\n",
            "Installing collected packages: faiss-gpu\n",
            "Successfully installed faiss-gpu-1.7.1.post2\n"
          ]
        }
      ]
    },
    {
      "cell_type": "markdown",
      "metadata": {
        "id": "3Wg8SSIBwqw4"
      },
      "source": [
        "# LSH"
      ]
    },
    {
      "cell_type": "code",
      "metadata": {
        "id": "topVffYxs3PC"
      },
      "source": [
        "class LSHIndex():\n",
        "    def __init__(self, vectors, labels):\n",
        "        self.dimention = vectors[0].shape[0]\n",
        "        self.vectors = vectors.astype('float32')\n",
        "        self.labels = labels\n",
        "\n",
        "\n",
        "    def build(self, num_bits=8):\n",
        "        self.index = faiss.IndexLSH(self.dimention,num_bits)\n",
        "        self.index.add(self.vectors)\n",
        "        \n",
        "    def query(self, vectors, k=10):\n",
        "        distances, indices = self.index.search(vectors, k) \n",
        "        return [self.labels[i] for i in indices[0]]"
      ],
      "execution_count": 16,
      "outputs": []
    },
    {
      "cell_type": "code",
      "metadata": {
        "colab": {
          "base_uri": "https://localhost:8080/"
        },
        "id": "y21sbUYBs443",
        "outputId": "a2507b09-2194-4346-93ff-e18339a080cb"
      },
      "source": [
        "%%time\n",
        "lsh_index = LSHIndex(vector, df['author'])\n",
        "lsh_index.build()"
      ],
      "execution_count": 22,
      "outputs": [
        {
          "output_type": "stream",
          "name": "stdout",
          "text": [
            "CPU times: user 206 ms, sys: 130 ms, total: 336 ms\n",
            "Wall time: 320 ms\n"
          ]
        }
      ]
    },
    {
      "cell_type": "code",
      "metadata": {
        "colab": {
          "base_uri": "https://localhost:8080/",
          "height": 441
        },
        "id": "tsMR04Tvt02R",
        "outputId": "d802a4a5-51ca-4618-a189-7f3edcac6ddd"
      },
      "source": [
        "query_index = 1\n",
        "print(f\"The most simillar to item {df['author'][query_index]} are:\")\n",
        "items_list = lsh_index.query(np.array([vector[query_index]]).astype('float32'))\n",
        "df.loc[df['author'].isin(items_list)]"
      ],
      "execution_count": 26,
      "outputs": [
        {
          "output_type": "stream",
          "name": "stdout",
          "text": [
            "The most simillar to item Tom Kertscher are:\n"
          ]
        },
        {
          "output_type": "execute_result",
          "data": {
            "text/html": [
              "<div>\n",
              "<style scoped>\n",
              "    .dataframe tbody tr th:only-of-type {\n",
              "        vertical-align: middle;\n",
              "    }\n",
              "\n",
              "    .dataframe tbody tr th {\n",
              "        vertical-align: top;\n",
              "    }\n",
              "\n",
              "    .dataframe thead th {\n",
              "        text-align: right;\n",
              "    }\n",
              "</style>\n",
              "<table border=\"1\" class=\"dataframe\">\n",
              "  <thead>\n",
              "    <tr style=\"text-align: right;\">\n",
              "      <th></th>\n",
              "      <th>Unnamed: 0</th>\n",
              "      <th>author</th>\n",
              "      <th>statement</th>\n",
              "      <th>source</th>\n",
              "      <th>date</th>\n",
              "      <th>target</th>\n",
              "      <th>BinaryTarget</th>\n",
              "      <th>BinaryNumTarget</th>\n",
              "    </tr>\n",
              "  </thead>\n",
              "  <tbody>\n",
              "    <tr>\n",
              "      <th>1</th>\n",
              "      <td>1</td>\n",
              "      <td>Tom Kertscher</td>\n",
              "      <td>blood  starts  clot   minute  two    pfizer co...</td>\n",
              "      <td>Instagram posts</td>\n",
              "      <td>October 29, 2021</td>\n",
              "      <td>false</td>\n",
              "      <td>0</td>\n",
              "      <td>FAKE</td>\n",
              "    </tr>\n",
              "    <tr>\n",
              "      <th>3</th>\n",
              "      <td>3</td>\n",
              "      <td>Samantha Putterman</td>\n",
              "      <td>virginia voters   turned away  polling locatio...</td>\n",
              "      <td>Facebook posts</td>\n",
              "      <td>October 29, 2021</td>\n",
              "      <td>barely-true</td>\n",
              "      <td>0</td>\n",
              "      <td>FAKE</td>\n",
              "    </tr>\n",
              "    <tr>\n",
              "      <th>4</th>\n",
              "      <td>4</td>\n",
              "      <td>Ciara O'Rourke</td>\n",
              "      <td>in n out cups say  f  joe biden</td>\n",
              "      <td>Viral image</td>\n",
              "      <td>October 29, 2021</td>\n",
              "      <td>false</td>\n",
              "      <td>0</td>\n",
              "      <td>FAKE</td>\n",
              "    </tr>\n",
              "    <tr>\n",
              "      <th>5</th>\n",
              "      <td>5</td>\n",
              "      <td>Ciara O'Rourke</td>\n",
              "      <td>says  cnn headline said   in and out   fast fo...</td>\n",
              "      <td>Viral image</td>\n",
              "      <td>October 29, 2021</td>\n",
              "      <td>pants-fire</td>\n",
              "      <td>0</td>\n",
              "      <td>FAKE</td>\n",
              "    </tr>\n",
              "    <tr>\n",
              "      <th>7</th>\n",
              "      <td>7</td>\n",
              "      <td>Ciara O'Rourke</td>\n",
              "      <td>trump   white house  he promises  lock  hillary</td>\n",
              "      <td>Facebook posts</td>\n",
              "      <td>October 29, 2021</td>\n",
              "      <td>pants-fire</td>\n",
              "      <td>0</td>\n",
              "      <td>FAKE</td>\n",
              "    </tr>\n",
              "    <tr>\n",
              "      <th>...</th>\n",
              "      <td>...</td>\n",
              "      <td>...</td>\n",
              "      <td>...</td>\n",
              "      <td>...</td>\n",
              "      <td>...</td>\n",
              "      <td>...</td>\n",
              "      <td>...</td>\n",
              "      <td>...</td>\n",
              "    </tr>\n",
              "    <tr>\n",
              "      <th>2392</th>\n",
              "      <td>2392</td>\n",
              "      <td>Samantha Putterman</td>\n",
              "      <td>says  nih    years ago published  study  chlor...</td>\n",
              "      <td>Facebook posts</td>\n",
              "      <td>July 29, 2020</td>\n",
              "      <td>false</td>\n",
              "      <td>0</td>\n",
              "      <td>FAKE</td>\n",
              "    </tr>\n",
              "    <tr>\n",
              "      <th>2393</th>\n",
              "      <td>2393</td>\n",
              "      <td>Warren Fiske</td>\n",
              "      <td>mark warner   party bosses  calling  defund  ...</td>\n",
              "      <td>Daniel Gade</td>\n",
              "      <td>July 29, 2020</td>\n",
              "      <td>false</td>\n",
              "      <td>0</td>\n",
              "      <td>FAKE</td>\n",
              "    </tr>\n",
              "    <tr>\n",
              "      <th>2394</th>\n",
              "      <td>2394</td>\n",
              "      <td>Ciara O'Rourke</td>\n",
              "      <td>photo shows  huge charter busses  black lives ...</td>\n",
              "      <td>Viral image</td>\n",
              "      <td>July 29, 2020</td>\n",
              "      <td>pants-fire</td>\n",
              "      <td>0</td>\n",
              "      <td>FAKE</td>\n",
              "    </tr>\n",
              "    <tr>\n",
              "      <th>2395</th>\n",
              "      <td>2395</td>\n",
              "      <td>Tom Kertscher</td>\n",
              "      <td>walmart   pledged    million  black lives mat...</td>\n",
              "      <td>Facebook posts</td>\n",
              "      <td>July 28, 2020</td>\n",
              "      <td>false</td>\n",
              "      <td>0</td>\n",
              "      <td>FAKE</td>\n",
              "    </tr>\n",
              "    <tr>\n",
              "      <th>2397</th>\n",
              "      <td>2397</td>\n",
              "      <td>Tom Kertscher</td>\n",
              "      <td>says joe biden  formally listed  criminal susp...</td>\n",
              "      <td>Viral image</td>\n",
              "      <td>July 28, 2020</td>\n",
              "      <td>false</td>\n",
              "      <td>0</td>\n",
              "      <td>FAKE</td>\n",
              "    </tr>\n",
              "  </tbody>\n",
              "</table>\n",
              "<p>1171 rows × 8 columns</p>\n",
              "</div>"
            ],
            "text/plain": [
              "      Unnamed: 0              author  ... BinaryTarget BinaryNumTarget\n",
              "1              1       Tom Kertscher  ...            0            FAKE\n",
              "3              3  Samantha Putterman  ...            0            FAKE\n",
              "4              4      Ciara O'Rourke  ...            0            FAKE\n",
              "5              5      Ciara O'Rourke  ...            0            FAKE\n",
              "7              7      Ciara O'Rourke  ...            0            FAKE\n",
              "...          ...                 ...  ...          ...             ...\n",
              "2392        2392  Samantha Putterman  ...            0            FAKE\n",
              "2393        2393        Warren Fiske  ...            0            FAKE\n",
              "2394        2394      Ciara O'Rourke  ...            0            FAKE\n",
              "2395        2395       Tom Kertscher  ...            0            FAKE\n",
              "2397        2397       Tom Kertscher  ...            0            FAKE\n",
              "\n",
              "[1171 rows x 8 columns]"
            ]
          },
          "metadata": {},
          "execution_count": 26
        }
      ]
    },
    {
      "cell_type": "markdown",
      "metadata": {
        "id": "Ob7D-FNWwwzk"
      },
      "source": [
        "# Exhaustive Search"
      ]
    },
    {
      "cell_type": "code",
      "metadata": {
        "id": "Wmb2m6VUuR0w"
      },
      "source": [
        "class BruteForceIndex():\n",
        "    def __init__(self, vectors, labels):\n",
        "        self.vectors = vectors.astype('float32')\n",
        "        self.labels = labels\n",
        "        self.index = faiss.IndexFlatL2(vectors[0].shape[0])\n",
        "        self.index.add(self.vectors)\n",
        "        \n",
        "    def query(self, vectors, k=10):\n",
        "        distances, indices = self.index.search(vectors, k) \n",
        "        return [self.labels[i] for i in indices[0]]"
      ],
      "execution_count": 27,
      "outputs": []
    },
    {
      "cell_type": "code",
      "metadata": {
        "colab": {
          "base_uri": "https://localhost:8080/"
        },
        "id": "VwSYBnU4uWMT",
        "outputId": "670301f2-7050-4ffc-b2f7-b1b285d738b4"
      },
      "source": [
        "%%time\n",
        "es_index = BruteForceIndex(vector, df['author'])"
      ],
      "execution_count": 29,
      "outputs": [
        {
          "output_type": "stream",
          "name": "stdout",
          "text": [
            "CPU times: user 179 ms, sys: 269 ms, total: 448 ms\n",
            "Wall time: 445 ms\n"
          ]
        }
      ]
    },
    {
      "cell_type": "code",
      "metadata": {
        "colab": {
          "base_uri": "https://localhost:8080/",
          "height": 441
        },
        "id": "X1teZYqFucBG",
        "outputId": "06c8ec78-ffd4-4592-ba86-f5e06d1e5ed3"
      },
      "source": [
        "query_index = 1\n",
        "print(f\"The most simillar to item {df['author'][query_index]} are:\")\n",
        "items_list = es_index.query(np.array([vector[query_index]]).astype('float32'))\n",
        "df.loc[df['author'].isin(items_list)]"
      ],
      "execution_count": 31,
      "outputs": [
        {
          "output_type": "stream",
          "name": "stdout",
          "text": [
            "The most simillar to item Tom Kertscher are:\n"
          ]
        },
        {
          "output_type": "execute_result",
          "data": {
            "text/html": [
              "<div>\n",
              "<style scoped>\n",
              "    .dataframe tbody tr th:only-of-type {\n",
              "        vertical-align: middle;\n",
              "    }\n",
              "\n",
              "    .dataframe tbody tr th {\n",
              "        vertical-align: top;\n",
              "    }\n",
              "\n",
              "    .dataframe thead th {\n",
              "        text-align: right;\n",
              "    }\n",
              "</style>\n",
              "<table border=\"1\" class=\"dataframe\">\n",
              "  <thead>\n",
              "    <tr style=\"text-align: right;\">\n",
              "      <th></th>\n",
              "      <th>Unnamed: 0</th>\n",
              "      <th>author</th>\n",
              "      <th>statement</th>\n",
              "      <th>source</th>\n",
              "      <th>date</th>\n",
              "      <th>target</th>\n",
              "      <th>BinaryTarget</th>\n",
              "      <th>BinaryNumTarget</th>\n",
              "    </tr>\n",
              "  </thead>\n",
              "  <tbody>\n",
              "    <tr>\n",
              "      <th>1</th>\n",
              "      <td>1</td>\n",
              "      <td>Tom Kertscher</td>\n",
              "      <td>blood  starts  clot   minute  two    pfizer co...</td>\n",
              "      <td>Instagram posts</td>\n",
              "      <td>October 29, 2021</td>\n",
              "      <td>false</td>\n",
              "      <td>0</td>\n",
              "      <td>FAKE</td>\n",
              "    </tr>\n",
              "    <tr>\n",
              "      <th>3</th>\n",
              "      <td>3</td>\n",
              "      <td>Samantha Putterman</td>\n",
              "      <td>virginia voters   turned away  polling locatio...</td>\n",
              "      <td>Facebook posts</td>\n",
              "      <td>October 29, 2021</td>\n",
              "      <td>barely-true</td>\n",
              "      <td>0</td>\n",
              "      <td>FAKE</td>\n",
              "    </tr>\n",
              "    <tr>\n",
              "      <th>4</th>\n",
              "      <td>4</td>\n",
              "      <td>Ciara O'Rourke</td>\n",
              "      <td>in n out cups say  f  joe biden</td>\n",
              "      <td>Viral image</td>\n",
              "      <td>October 29, 2021</td>\n",
              "      <td>false</td>\n",
              "      <td>0</td>\n",
              "      <td>FAKE</td>\n",
              "    </tr>\n",
              "    <tr>\n",
              "      <th>5</th>\n",
              "      <td>5</td>\n",
              "      <td>Ciara O'Rourke</td>\n",
              "      <td>says  cnn headline said   in and out   fast fo...</td>\n",
              "      <td>Viral image</td>\n",
              "      <td>October 29, 2021</td>\n",
              "      <td>pants-fire</td>\n",
              "      <td>0</td>\n",
              "      <td>FAKE</td>\n",
              "    </tr>\n",
              "    <tr>\n",
              "      <th>6</th>\n",
              "      <td>6</td>\n",
              "      <td>Andy Nguyen</td>\n",
              "      <td>atlanta  lost      police force</td>\n",
              "      <td>Facebook posts</td>\n",
              "      <td>October 29, 2021</td>\n",
              "      <td>false</td>\n",
              "      <td>0</td>\n",
              "      <td>FAKE</td>\n",
              "    </tr>\n",
              "    <tr>\n",
              "      <th>...</th>\n",
              "      <td>...</td>\n",
              "      <td>...</td>\n",
              "      <td>...</td>\n",
              "      <td>...</td>\n",
              "      <td>...</td>\n",
              "      <td>...</td>\n",
              "      <td>...</td>\n",
              "      <td>...</td>\n",
              "    </tr>\n",
              "    <tr>\n",
              "      <th>2388</th>\n",
              "      <td>2388</td>\n",
              "      <td>Ciara O'Rourke</td>\n",
              "      <td>hurricane  hanna  hitting texas  blown  part ...</td>\n",
              "      <td>Viral image</td>\n",
              "      <td>July 29, 2020</td>\n",
              "      <td>false</td>\n",
              "      <td>0</td>\n",
              "      <td>FAKE</td>\n",
              "    </tr>\n",
              "    <tr>\n",
              "      <th>2392</th>\n",
              "      <td>2392</td>\n",
              "      <td>Samantha Putterman</td>\n",
              "      <td>says  nih    years ago published  study  chlor...</td>\n",
              "      <td>Facebook posts</td>\n",
              "      <td>July 29, 2020</td>\n",
              "      <td>false</td>\n",
              "      <td>0</td>\n",
              "      <td>FAKE</td>\n",
              "    </tr>\n",
              "    <tr>\n",
              "      <th>2394</th>\n",
              "      <td>2394</td>\n",
              "      <td>Ciara O'Rourke</td>\n",
              "      <td>photo shows  huge charter busses  black lives ...</td>\n",
              "      <td>Viral image</td>\n",
              "      <td>July 29, 2020</td>\n",
              "      <td>pants-fire</td>\n",
              "      <td>0</td>\n",
              "      <td>FAKE</td>\n",
              "    </tr>\n",
              "    <tr>\n",
              "      <th>2395</th>\n",
              "      <td>2395</td>\n",
              "      <td>Tom Kertscher</td>\n",
              "      <td>walmart   pledged    million  black lives mat...</td>\n",
              "      <td>Facebook posts</td>\n",
              "      <td>July 28, 2020</td>\n",
              "      <td>false</td>\n",
              "      <td>0</td>\n",
              "      <td>FAKE</td>\n",
              "    </tr>\n",
              "    <tr>\n",
              "      <th>2397</th>\n",
              "      <td>2397</td>\n",
              "      <td>Tom Kertscher</td>\n",
              "      <td>says joe biden  formally listed  criminal susp...</td>\n",
              "      <td>Viral image</td>\n",
              "      <td>July 28, 2020</td>\n",
              "      <td>false</td>\n",
              "      <td>0</td>\n",
              "      <td>FAKE</td>\n",
              "    </tr>\n",
              "  </tbody>\n",
              "</table>\n",
              "<p>964 rows × 8 columns</p>\n",
              "</div>"
            ],
            "text/plain": [
              "      Unnamed: 0              author  ... BinaryTarget BinaryNumTarget\n",
              "1              1       Tom Kertscher  ...            0            FAKE\n",
              "3              3  Samantha Putterman  ...            0            FAKE\n",
              "4              4      Ciara O'Rourke  ...            0            FAKE\n",
              "5              5      Ciara O'Rourke  ...            0            FAKE\n",
              "6              6         Andy Nguyen  ...            0            FAKE\n",
              "...          ...                 ...  ...          ...             ...\n",
              "2388        2388      Ciara O'Rourke  ...            0            FAKE\n",
              "2392        2392  Samantha Putterman  ...            0            FAKE\n",
              "2394        2394      Ciara O'Rourke  ...            0            FAKE\n",
              "2395        2395       Tom Kertscher  ...            0            FAKE\n",
              "2397        2397       Tom Kertscher  ...            0            FAKE\n",
              "\n",
              "[964 rows x 8 columns]"
            ]
          },
          "metadata": {},
          "execution_count": 31
        }
      ]
    },
    {
      "cell_type": "markdown",
      "metadata": {
        "id": "YZ7uCPFuw06S"
      },
      "source": [
        "# Product Quantization"
      ]
    },
    {
      "cell_type": "code",
      "metadata": {
        "id": "wTk1q23PujPo"
      },
      "source": [
        "class PQIndex():\n",
        "    def __init__(self, vectors, labels):\n",
        "        self.dimention = vectors.shape[1]\n",
        "        self.vectors = vectors.astype('float32')\n",
        "        self.labels = labels\n",
        "\n",
        "\n",
        "    def build(self, number_of_partition=8, search_in_x_partitions=2, subvector_size=8):\n",
        "        m = 3\n",
        "        n_bits = 8\n",
        "        self.index = faiss.IndexPQ (self.dimention, m, n_bits)\n",
        "        self.index.train(self.vectors)\n",
        "        self.index.add(self.vectors)\n",
        "        \n",
        "    def query(self, vectors, k=10):\n",
        "        distances, indices = self.index.search(vectors, k) \n",
        "        return [self.labels[i] for i in indices[0]]"
      ],
      "execution_count": 32,
      "outputs": []
    },
    {
      "cell_type": "code",
      "metadata": {
        "id": "96zjcOJdumCd"
      },
      "source": [
        "batch_vector = []\n",
        "for idx, arr in enumerate(vector):\n",
        "    batch_vector.append(list(np.append(arr, 0.0)))"
      ],
      "execution_count": 33,
      "outputs": []
    },
    {
      "cell_type": "code",
      "metadata": {
        "colab": {
          "base_uri": "https://localhost:8080/"
        },
        "id": "LwF9vHRpuqiR",
        "outputId": "315b23e9-8642-46eb-baad-b488287d29a9"
      },
      "source": [
        "%%time\n",
        "batch_vector = np.array(batch_vector)\n",
        "pq_index = PQIndex(batch_vector, df['author'])\n",
        "pq_index.build()"
      ],
      "execution_count": 35,
      "outputs": [
        {
          "output_type": "stream",
          "name": "stdout",
          "text": [
            "CPU times: user 27.2 s, sys: 499 ms, total: 27.7 s\n",
            "Wall time: 23.5 s\n"
          ]
        }
      ]
    },
    {
      "cell_type": "code",
      "metadata": {
        "colab": {
          "base_uri": "https://localhost:8080/",
          "height": 441
        },
        "id": "3bF-kNwButg7",
        "outputId": "cc2381c9-6060-4488-81ff-35edc39eef4e"
      },
      "source": [
        "query_index = 1\n",
        "print(f\"The most simillar to item {df['author'][query_index]} are:\")\n",
        "items_list = pq_index.query(np.array([batch_vector[query_index]]).astype('float32'))\n",
        "df.loc[df['author'].isin(items_list)]"
      ],
      "execution_count": 39,
      "outputs": [
        {
          "output_type": "stream",
          "name": "stdout",
          "text": [
            "The most simillar to item Tom Kertscher are:\n"
          ]
        },
        {
          "output_type": "execute_result",
          "data": {
            "text/html": [
              "<div>\n",
              "<style scoped>\n",
              "    .dataframe tbody tr th:only-of-type {\n",
              "        vertical-align: middle;\n",
              "    }\n",
              "\n",
              "    .dataframe tbody tr th {\n",
              "        vertical-align: top;\n",
              "    }\n",
              "\n",
              "    .dataframe thead th {\n",
              "        text-align: right;\n",
              "    }\n",
              "</style>\n",
              "<table border=\"1\" class=\"dataframe\">\n",
              "  <thead>\n",
              "    <tr style=\"text-align: right;\">\n",
              "      <th></th>\n",
              "      <th>Unnamed: 0</th>\n",
              "      <th>author</th>\n",
              "      <th>statement</th>\n",
              "      <th>source</th>\n",
              "      <th>date</th>\n",
              "      <th>target</th>\n",
              "      <th>BinaryTarget</th>\n",
              "      <th>BinaryNumTarget</th>\n",
              "    </tr>\n",
              "  </thead>\n",
              "  <tbody>\n",
              "    <tr>\n",
              "      <th>1</th>\n",
              "      <td>1</td>\n",
              "      <td>Tom Kertscher</td>\n",
              "      <td>blood  starts  clot   minute  two    pfizer co...</td>\n",
              "      <td>Instagram posts</td>\n",
              "      <td>October 29, 2021</td>\n",
              "      <td>false</td>\n",
              "      <td>0</td>\n",
              "      <td>FAKE</td>\n",
              "    </tr>\n",
              "    <tr>\n",
              "      <th>3</th>\n",
              "      <td>3</td>\n",
              "      <td>Samantha Putterman</td>\n",
              "      <td>virginia voters   turned away  polling locatio...</td>\n",
              "      <td>Facebook posts</td>\n",
              "      <td>October 29, 2021</td>\n",
              "      <td>barely-true</td>\n",
              "      <td>0</td>\n",
              "      <td>FAKE</td>\n",
              "    </tr>\n",
              "    <tr>\n",
              "      <th>6</th>\n",
              "      <td>6</td>\n",
              "      <td>Andy Nguyen</td>\n",
              "      <td>atlanta  lost      police force</td>\n",
              "      <td>Facebook posts</td>\n",
              "      <td>October 29, 2021</td>\n",
              "      <td>false</td>\n",
              "      <td>0</td>\n",
              "      <td>FAKE</td>\n",
              "    </tr>\n",
              "    <tr>\n",
              "      <th>9</th>\n",
              "      <td>9</td>\n",
              "      <td>Tom Kertscher</td>\n",
              "      <td>there    thing   booster  there   failed prod...</td>\n",
              "      <td>Viral image</td>\n",
              "      <td>October 29, 2021</td>\n",
              "      <td>false</td>\n",
              "      <td>0</td>\n",
              "      <td>FAKE</td>\n",
              "    </tr>\n",
              "    <tr>\n",
              "      <th>13</th>\n",
              "      <td>13</td>\n",
              "      <td>Tom Kertscher</td>\n",
              "      <td>in  united kingdom     plus percent   people  ...</td>\n",
              "      <td>Alex Berenson</td>\n",
              "      <td>October 29, 2021</td>\n",
              "      <td>false</td>\n",
              "      <td>0</td>\n",
              "      <td>FAKE</td>\n",
              "    </tr>\n",
              "    <tr>\n",
              "      <th>...</th>\n",
              "      <td>...</td>\n",
              "      <td>...</td>\n",
              "      <td>...</td>\n",
              "      <td>...</td>\n",
              "      <td>...</td>\n",
              "      <td>...</td>\n",
              "      <td>...</td>\n",
              "      <td>...</td>\n",
              "    </tr>\n",
              "    <tr>\n",
              "      <th>2380</th>\n",
              "      <td>2380</td>\n",
              "      <td>Samantha Putterman</td>\n",
              "      <td>the longest filibuster  u s  history    days  ...</td>\n",
              "      <td>Facebook posts</td>\n",
              "      <td>July 30, 2020</td>\n",
              "      <td>barely-true</td>\n",
              "      <td>0</td>\n",
              "      <td>FAKE</td>\n",
              "    </tr>\n",
              "    <tr>\n",
              "      <th>2386</th>\n",
              "      <td>2386</td>\n",
              "      <td>Tom Kertscher</td>\n",
              "      <td>american coronavirus vaccine killed five ukra...</td>\n",
              "      <td>Facebook posts</td>\n",
              "      <td>July 30, 2020</td>\n",
              "      <td>false</td>\n",
              "      <td>0</td>\n",
              "      <td>FAKE</td>\n",
              "    </tr>\n",
              "    <tr>\n",
              "      <th>2392</th>\n",
              "      <td>2392</td>\n",
              "      <td>Samantha Putterman</td>\n",
              "      <td>says  nih    years ago published  study  chlor...</td>\n",
              "      <td>Facebook posts</td>\n",
              "      <td>July 29, 2020</td>\n",
              "      <td>false</td>\n",
              "      <td>0</td>\n",
              "      <td>FAKE</td>\n",
              "    </tr>\n",
              "    <tr>\n",
              "      <th>2395</th>\n",
              "      <td>2395</td>\n",
              "      <td>Tom Kertscher</td>\n",
              "      <td>walmart   pledged    million  black lives mat...</td>\n",
              "      <td>Facebook posts</td>\n",
              "      <td>July 28, 2020</td>\n",
              "      <td>false</td>\n",
              "      <td>0</td>\n",
              "      <td>FAKE</td>\n",
              "    </tr>\n",
              "    <tr>\n",
              "      <th>2397</th>\n",
              "      <td>2397</td>\n",
              "      <td>Tom Kertscher</td>\n",
              "      <td>says joe biden  formally listed  criminal susp...</td>\n",
              "      <td>Viral image</td>\n",
              "      <td>July 28, 2020</td>\n",
              "      <td>false</td>\n",
              "      <td>0</td>\n",
              "      <td>FAKE</td>\n",
              "    </tr>\n",
              "  </tbody>\n",
              "</table>\n",
              "<p>458 rows × 8 columns</p>\n",
              "</div>"
            ],
            "text/plain": [
              "      Unnamed: 0              author  ... BinaryTarget BinaryNumTarget\n",
              "1              1       Tom Kertscher  ...            0            FAKE\n",
              "3              3  Samantha Putterman  ...            0            FAKE\n",
              "6              6         Andy Nguyen  ...            0            FAKE\n",
              "9              9       Tom Kertscher  ...            0            FAKE\n",
              "13            13       Tom Kertscher  ...            0            FAKE\n",
              "...          ...                 ...  ...          ...             ...\n",
              "2380        2380  Samantha Putterman  ...            0            FAKE\n",
              "2386        2386       Tom Kertscher  ...            0            FAKE\n",
              "2392        2392  Samantha Putterman  ...            0            FAKE\n",
              "2395        2395       Tom Kertscher  ...            0            FAKE\n",
              "2397        2397       Tom Kertscher  ...            0            FAKE\n",
              "\n",
              "[458 rows x 8 columns]"
            ]
          },
          "metadata": {},
          "execution_count": 39
        }
      ]
    },
    {
      "cell_type": "markdown",
      "metadata": {
        "id": "8PK6hRMgw6cW"
      },
      "source": [
        "# Trees and Graphs"
      ]
    },
    {
      "cell_type": "code",
      "metadata": {
        "colab": {
          "base_uri": "https://localhost:8080/"
        },
        "id": "QV4QgThVuv0K",
        "outputId": "bf07fc9d-d3ec-4964-d797-6b95d849e555"
      },
      "source": [
        "!pip install annoy\n",
        "import annoy"
      ],
      "execution_count": 40,
      "outputs": [
        {
          "output_type": "stream",
          "name": "stdout",
          "text": [
            "Collecting annoy\n",
            "  Downloading annoy-1.17.0.tar.gz (646 kB)\n",
            "\u001b[?25l\r\u001b[K     |▌                               | 10 kB 25.4 MB/s eta 0:00:01\r\u001b[K     |█                               | 20 kB 26.7 MB/s eta 0:00:01\r\u001b[K     |█▌                              | 30 kB 28.7 MB/s eta 0:00:01\r\u001b[K     |██                              | 40 kB 30.3 MB/s eta 0:00:01\r\u001b[K     |██▌                             | 51 kB 32.2 MB/s eta 0:00:01\r\u001b[K     |███                             | 61 kB 31.4 MB/s eta 0:00:01\r\u001b[K     |███▌                            | 71 kB 31.0 MB/s eta 0:00:01\r\u001b[K     |████                            | 81 kB 30.7 MB/s eta 0:00:01\r\u001b[K     |████▋                           | 92 kB 30.1 MB/s eta 0:00:01\r\u001b[K     |█████                           | 102 kB 31.4 MB/s eta 0:00:01\r\u001b[K     |█████▋                          | 112 kB 31.4 MB/s eta 0:00:01\r\u001b[K     |██████                          | 122 kB 31.4 MB/s eta 0:00:01\r\u001b[K     |██████▋                         | 133 kB 31.4 MB/s eta 0:00:01\r\u001b[K     |███████                         | 143 kB 31.4 MB/s eta 0:00:01\r\u001b[K     |███████▋                        | 153 kB 31.4 MB/s eta 0:00:01\r\u001b[K     |████████▏                       | 163 kB 31.4 MB/s eta 0:00:01\r\u001b[K     |████████▋                       | 174 kB 31.4 MB/s eta 0:00:01\r\u001b[K     |█████████▏                      | 184 kB 31.4 MB/s eta 0:00:01\r\u001b[K     |█████████▋                      | 194 kB 31.4 MB/s eta 0:00:01\r\u001b[K     |██████████▏                     | 204 kB 31.4 MB/s eta 0:00:01\r\u001b[K     |██████████▋                     | 215 kB 31.4 MB/s eta 0:00:01\r\u001b[K     |███████████▏                    | 225 kB 31.4 MB/s eta 0:00:01\r\u001b[K     |███████████▋                    | 235 kB 31.4 MB/s eta 0:00:01\r\u001b[K     |████████████▏                   | 245 kB 31.4 MB/s eta 0:00:01\r\u001b[K     |████████████▊                   | 256 kB 31.4 MB/s eta 0:00:01\r\u001b[K     |█████████████▏                  | 266 kB 31.4 MB/s eta 0:00:01\r\u001b[K     |█████████████▊                  | 276 kB 31.4 MB/s eta 0:00:01\r\u001b[K     |██████████████▏                 | 286 kB 31.4 MB/s eta 0:00:01\r\u001b[K     |██████████████▊                 | 296 kB 31.4 MB/s eta 0:00:01\r\u001b[K     |███████████████▏                | 307 kB 31.4 MB/s eta 0:00:01\r\u001b[K     |███████████████▊                | 317 kB 31.4 MB/s eta 0:00:01\r\u001b[K     |████████████████▎               | 327 kB 31.4 MB/s eta 0:00:01\r\u001b[K     |████████████████▊               | 337 kB 31.4 MB/s eta 0:00:01\r\u001b[K     |█████████████████▎              | 348 kB 31.4 MB/s eta 0:00:01\r\u001b[K     |█████████████████▊              | 358 kB 31.4 MB/s eta 0:00:01\r\u001b[K     |██████████████████▎             | 368 kB 31.4 MB/s eta 0:00:01\r\u001b[K     |██████████████████▊             | 378 kB 31.4 MB/s eta 0:00:01\r\u001b[K     |███████████████████▎            | 389 kB 31.4 MB/s eta 0:00:01\r\u001b[K     |███████████████████▊            | 399 kB 31.4 MB/s eta 0:00:01\r\u001b[K     |████████████████████▎           | 409 kB 31.4 MB/s eta 0:00:01\r\u001b[K     |████████████████████▉           | 419 kB 31.4 MB/s eta 0:00:01\r\u001b[K     |█████████████████████▎          | 430 kB 31.4 MB/s eta 0:00:01\r\u001b[K     |█████████████████████▉          | 440 kB 31.4 MB/s eta 0:00:01\r\u001b[K     |██████████████████████▎         | 450 kB 31.4 MB/s eta 0:00:01\r\u001b[K     |██████████████████████▉         | 460 kB 31.4 MB/s eta 0:00:01\r\u001b[K     |███████████████████████▎        | 471 kB 31.4 MB/s eta 0:00:01\r\u001b[K     |███████████████████████▉        | 481 kB 31.4 MB/s eta 0:00:01\r\u001b[K     |████████████████████████▍       | 491 kB 31.4 MB/s eta 0:00:01\r\u001b[K     |████████████████████████▉       | 501 kB 31.4 MB/s eta 0:00:01\r\u001b[K     |█████████████████████████▍      | 512 kB 31.4 MB/s eta 0:00:01\r\u001b[K     |█████████████████████████▉      | 522 kB 31.4 MB/s eta 0:00:01\r\u001b[K     |██████████████████████████▍     | 532 kB 31.4 MB/s eta 0:00:01\r\u001b[K     |██████████████████████████▉     | 542 kB 31.4 MB/s eta 0:00:01\r\u001b[K     |███████████████████████████▍    | 552 kB 31.4 MB/s eta 0:00:01\r\u001b[K     |███████████████████████████▉    | 563 kB 31.4 MB/s eta 0:00:01\r\u001b[K     |████████████████████████████▍   | 573 kB 31.4 MB/s eta 0:00:01\r\u001b[K     |█████████████████████████████   | 583 kB 31.4 MB/s eta 0:00:01\r\u001b[K     |█████████████████████████████▍  | 593 kB 31.4 MB/s eta 0:00:01\r\u001b[K     |██████████████████████████████  | 604 kB 31.4 MB/s eta 0:00:01\r\u001b[K     |██████████████████████████████▍ | 614 kB 31.4 MB/s eta 0:00:01\r\u001b[K     |███████████████████████████████ | 624 kB 31.4 MB/s eta 0:00:01\r\u001b[K     |███████████████████████████████▍| 634 kB 31.4 MB/s eta 0:00:01\r\u001b[K     |████████████████████████████████| 645 kB 31.4 MB/s eta 0:00:01\r\u001b[K     |████████████████████████████████| 646 kB 31.4 MB/s \n",
            "\u001b[?25hBuilding wheels for collected packages: annoy\n",
            "  Building wheel for annoy (setup.py) ... \u001b[?25l\u001b[?25hdone\n",
            "  Created wheel for annoy: filename=annoy-1.17.0-cp37-cp37m-linux_x86_64.whl size=391674 sha256=cc1635489a7ebb496109c15e31409ae67da87315d37080ade539bd4f15decffa\n",
            "  Stored in directory: /root/.cache/pip/wheels/4f/e8/1e/7cc9ebbfa87a3b9f8ba79408d4d31831d67eea918b679a4c07\n",
            "Successfully built annoy\n",
            "Installing collected packages: annoy\n",
            "Successfully installed annoy-1.17.0\n"
          ]
        }
      ]
    },
    {
      "cell_type": "code",
      "metadata": {
        "colab": {
          "base_uri": "https://localhost:8080/"
        },
        "id": "gEjBpAgEv9w5",
        "outputId": "5198a091-d45d-4924-e2a8-9259e5bb3814"
      },
      "source": [
        "!pip install apache_beam\n",
        "!pip install 'scikit_learn~=0.23.0'  # For gaussian_random_matrix.\n",
        "!pip install annoy"
      ],
      "execution_count": 1,
      "outputs": [
        {
          "output_type": "stream",
          "name": "stdout",
          "text": [
            "Requirement already satisfied: apache_beam in /usr/local/lib/python3.7/dist-packages (2.34.0)\n",
            "Requirement already satisfied: orjson<4.0 in /usr/local/lib/python3.7/dist-packages (from apache_beam) (3.6.4)\n",
            "Requirement already satisfied: fastavro<2,>=0.21.4 in /usr/local/lib/python3.7/dist-packages (from apache_beam) (1.4.7)\n",
            "Requirement already satisfied: typing-extensions<4,>=3.7.0 in /usr/local/lib/python3.7/dist-packages (from apache_beam) (3.10.0.2)\n",
            "Requirement already satisfied: protobuf<4,>=3.12.2 in /usr/local/lib/python3.7/dist-packages (from apache_beam) (3.17.3)\n",
            "Requirement already satisfied: crcmod<2.0,>=1.7 in /usr/local/lib/python3.7/dist-packages (from apache_beam) (1.7)\n",
            "Requirement already satisfied: pymongo<4.0.0,>=3.8.0 in /usr/local/lib/python3.7/dist-packages (from apache_beam) (3.12.1)\n",
            "Requirement already satisfied: future<1.0.0,>=0.18.2 in /usr/local/lib/python3.7/dist-packages (from apache_beam) (0.18.2)\n",
            "Requirement already satisfied: avro-python3!=1.9.2,<1.10.0,>=1.8.1 in /usr/local/lib/python3.7/dist-packages (from apache_beam) (1.9.2.1)\n",
            "Requirement already satisfied: hdfs<3.0.0,>=2.1.0 in /usr/local/lib/python3.7/dist-packages (from apache_beam) (2.6.0)\n",
            "Requirement already satisfied: pytz>=2018.3 in /usr/local/lib/python3.7/dist-packages (from apache_beam) (2018.9)\n",
            "Requirement already satisfied: oauth2client<5,>=2.0.1 in /usr/local/lib/python3.7/dist-packages (from apache_beam) (4.1.3)\n",
            "Requirement already satisfied: requests<3.0.0,>=2.24.0 in /usr/local/lib/python3.7/dist-packages (from apache_beam) (2.26.0)\n",
            "Requirement already satisfied: pyarrow<6.0.0,>=0.15.1 in /usr/local/lib/python3.7/dist-packages (from apache_beam) (3.0.0)\n",
            "Requirement already satisfied: dill<0.3.2,>=0.3.1.1 in /usr/local/lib/python3.7/dist-packages (from apache_beam) (0.3.1.1)\n",
            "Requirement already satisfied: grpcio<2,>=1.29.0 in /usr/local/lib/python3.7/dist-packages (from apache_beam) (1.42.0)\n",
            "Requirement already satisfied: numpy<1.21.0,>=1.14.3 in /usr/local/lib/python3.7/dist-packages (from apache_beam) (1.19.5)\n",
            "Requirement already satisfied: httplib2<0.20.0,>=0.8 in /usr/local/lib/python3.7/dist-packages (from apache_beam) (0.17.4)\n",
            "Requirement already satisfied: pydot<2,>=1.2.0 in /usr/local/lib/python3.7/dist-packages (from apache_beam) (1.3.0)\n",
            "Requirement already satisfied: python-dateutil<3,>=2.8.0 in /usr/local/lib/python3.7/dist-packages (from apache_beam) (2.8.2)\n",
            "Requirement already satisfied: six>=1.5.2 in /usr/local/lib/python3.7/dist-packages (from grpcio<2,>=1.29.0->apache_beam) (1.15.0)\n",
            "Requirement already satisfied: docopt in /usr/local/lib/python3.7/dist-packages (from hdfs<3.0.0,>=2.1.0->apache_beam) (0.6.2)\n",
            "Requirement already satisfied: pyasn1-modules>=0.0.5 in /usr/local/lib/python3.7/dist-packages (from oauth2client<5,>=2.0.1->apache_beam) (0.2.8)\n",
            "Requirement already satisfied: pyasn1>=0.1.7 in /usr/local/lib/python3.7/dist-packages (from oauth2client<5,>=2.0.1->apache_beam) (0.4.8)\n",
            "Requirement already satisfied: rsa>=3.1.4 in /usr/local/lib/python3.7/dist-packages (from oauth2client<5,>=2.0.1->apache_beam) (4.7.2)\n",
            "Requirement already satisfied: pyparsing>=2.1.4 in /usr/local/lib/python3.7/dist-packages (from pydot<2,>=1.2.0->apache_beam) (3.0.6)\n",
            "Requirement already satisfied: idna<4,>=2.5 in /usr/local/lib/python3.7/dist-packages (from requests<3.0.0,>=2.24.0->apache_beam) (2.10)\n",
            "Requirement already satisfied: urllib3<1.27,>=1.21.1 in /usr/local/lib/python3.7/dist-packages (from requests<3.0.0,>=2.24.0->apache_beam) (1.24.3)\n",
            "Requirement already satisfied: certifi>=2017.4.17 in /usr/local/lib/python3.7/dist-packages (from requests<3.0.0,>=2.24.0->apache_beam) (2021.10.8)\n",
            "Requirement already satisfied: charset-normalizer~=2.0.0 in /usr/local/lib/python3.7/dist-packages (from requests<3.0.0,>=2.24.0->apache_beam) (2.0.7)\n",
            "Requirement already satisfied: scikit_learn~=0.23.0 in /usr/local/lib/python3.7/dist-packages (0.23.2)\n",
            "Requirement already satisfied: scipy>=0.19.1 in /usr/local/lib/python3.7/dist-packages (from scikit_learn~=0.23.0) (1.4.1)\n",
            "Requirement already satisfied: joblib>=0.11 in /usr/local/lib/python3.7/dist-packages (from scikit_learn~=0.23.0) (1.1.0)\n",
            "Requirement already satisfied: numpy>=1.13.3 in /usr/local/lib/python3.7/dist-packages (from scikit_learn~=0.23.0) (1.19.5)\n",
            "Requirement already satisfied: threadpoolctl>=2.0.0 in /usr/local/lib/python3.7/dist-packages (from scikit_learn~=0.23.0) (3.0.0)\n",
            "Requirement already satisfied: annoy in /usr/local/lib/python3.7/dist-packages (1.17.0)\n"
          ]
        }
      ]
    },
    {
      "cell_type": "code",
      "metadata": {
        "id": "6L3xQovNu2QZ"
      },
      "source": [
        "%%time\n",
        "tg_index = TreeGraphIndex(vector, df['author'])\n",
        "tg_index.build()"
      ],
      "execution_count": null,
      "outputs": []
    },
    {
      "cell_type": "code",
      "metadata": {
        "id": "IRFp41dTvapA"
      },
      "source": [
        "query_index = 1\n",
        "print(f\"The most simillar to item {df['author'][query_index]} are:\")\n",
        "items_list = tg_index.query(vector[query_index])\n",
        "df.loc[df['author'].isin(items_list)]"
      ],
      "execution_count": null,
      "outputs": []
    },
    {
      "cell_type": "markdown",
      "metadata": {
        "id": "91quim7Ww_BO"
      },
      "source": [
        "# ierarchical Navigable Small Worlds (HNSW)"
      ]
    },
    {
      "cell_type": "code",
      "metadata": {
        "colab": {
          "base_uri": "https://localhost:8080/"
        },
        "id": "rxbgNyGtvnwK",
        "outputId": "b4dff3a2-eb17-4641-84b4-dc1abb5a5376"
      },
      "source": [
        "!pip install pip==9.0.3 pybind11\n",
        "!pip install nmslib\n",
        "import nmslib"
      ],
      "execution_count": 6,
      "outputs": [
        {
          "output_type": "stream",
          "name": "stdout",
          "text": [
            "Requirement already satisfied: pip==9.0.3 in /usr/local/lib/python3.7/dist-packages\n",
            "Requirement already satisfied: pybind11 in /usr/local/lib/python3.7/dist-packages\n",
            "Collecting nmslib\n",
            "  Downloading https://files.pythonhosted.org/packages/73/29/5e8c000592f8abbba5add9949a92134075cf4dd45f2cc8a6042d171295ad/nmslib-2.1.1-cp37-cp37m-manylinux1_x86_64.whl (8.6MB)\n",
            "\u001b[K    100% |████████████████████████████████| 8.6MB 135kB/s \n",
            "\u001b[?25hCollecting pybind11<2.6.2 (from nmslib)\n",
            "\u001b[33m  Cache entry deserialization failed, entry ignored\u001b[0m\n",
            "  Downloading https://files.pythonhosted.org/packages/00/84/fc9dc13ee536ba5e6b8fd10ce368fea5b738fe394c3b296cde7c9b144a92/pybind11-2.6.1-py2.py3-none-any.whl (188kB)\n",
            "\u001b[K    100% |████████████████████████████████| 194kB 5.6MB/s \n",
            "\u001b[?25hRequirement already satisfied: numpy>=1.10.0; python_version >= \"3.5\" in /usr/local/lib/python3.7/dist-packages (from nmslib)\n",
            "Requirement already satisfied: psutil in /usr/local/lib/python3.7/dist-packages (from nmslib)\n",
            "Installing collected packages: pybind11, nmslib\n",
            "  Found existing installation: pybind11 2.8.1\n",
            "    Uninstalling pybind11-2.8.1:\n",
            "      Successfully uninstalled pybind11-2.8.1\n",
            "Successfully installed nmslib-2.1.1 pybind11-2.6.1\n"
          ]
        }
      ]
    },
    {
      "cell_type": "code",
      "metadata": {
        "id": "FLThDmxRyPRz"
      },
      "source": [
        "class HNSWIndex():\n",
        "    def __init__(self, vectors, labels):\n",
        "        self.dimention = vectors[0].shape[0]\n",
        "        self.vectors = vectors.astype('float32')\n",
        "        self.labels = labels\n",
        "\n",
        "    def build(self):\n",
        "        self.index = nmslib.init(method='hnsw', space='cosinesimil')\n",
        "        self.index.addDataPointBatch(self.vectors)\n",
        "        self.index.createIndex({'post': 2})\n",
        "        \n",
        "    def query(self, vector, k=10):\n",
        "        indices = self.index.knnQuery(vector, k=k)\n",
        "        return [self.labels[i] for i in indices[0]]"
      ],
      "execution_count": 7,
      "outputs": []
    },
    {
      "cell_type": "code",
      "metadata": {
        "id": "sowyCFlgySx1"
      },
      "source": [
        "%%time\n",
        "hnsw_index = HNSWIndex(vector, df['author'])\n",
        "hnsw_index.build()"
      ],
      "execution_count": null,
      "outputs": []
    },
    {
      "cell_type": "markdown",
      "metadata": {
        "id": "lyDBIZxQxF9U"
      },
      "source": [
        "Sum"
      ]
    },
    {
      "cell_type": "markdown",
      "metadata": {
        "id": "-dSNp7-SxIF7"
      },
      "source": [
        "# Sum"
      ]
    },
    {
      "cell_type": "markdown",
      "metadata": {
        "id": "ZDyStPLBxJ73"
      },
      "source": [
        "LSH:CPU times: \n",
        "user 206 ms, sys: 130 ms, total: 336 ms\n",
        "Wall time: 320 ms\n",
        "\n",
        "Exhaustive Search:\n",
        "CPU times: user 179 ms, sys: 269 ms, total: 448 ms\n",
        "Wall time: 445 ms"
      ]
    },
    {
      "cell_type": "markdown",
      "metadata": {
        "id": "LflWV6pwxgeb"
      },
      "source": [
        "Product Quantization:\n",
        "CPU times: user 27.2 s, sys: 499 ms, total: 27.7 s\n",
        "Wall time: 23.5 s\n",
        "\n",
        "Trees and Graphs:"
      ]
    },
    {
      "cell_type": "markdown",
      "metadata": {
        "id": "3me8RraOxtVL"
      },
      "source": [
        "HNSW:"
      ]
    }
  ]
}